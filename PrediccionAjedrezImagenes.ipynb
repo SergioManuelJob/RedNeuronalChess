{
  "nbformat": 4,
  "nbformat_minor": 0,
  "metadata": {
    "colab": {
      "provenance": [],
      "mount_file_id": "17e1EHFdev8Gunaqss-wYBq7u9pg__x-g",
      "authorship_tag": "ABX9TyM/KlLbV1ZB6WzQ/UNCz771",
      "include_colab_link": true
    },
    "kernelspec": {
      "name": "python3",
      "display_name": "Python 3"
    },
    "language_info": {
      "name": "python"
    }
  },
  "cells": [
    {
      "cell_type": "markdown",
      "metadata": {
        "id": "view-in-github",
        "colab_type": "text"
      },
      "source": [
        "<a href=\"https://colab.research.google.com/github/SergioManuelJob/RedNeuronalChess/blob/master/PrediccionAjedrezImagenes.ipynb\" target=\"_parent\"><img src=\"https://colab.research.google.com/assets/colab-badge.svg\" alt=\"Open In Colab\"/></a>"
      ]
    },
    {
      "cell_type": "markdown",
      "source": [
        "# Sergio Manuel Suárez Suárez"
      ],
      "metadata": {
        "id": "6MHf_OvxDBLZ"
      }
    },
    {
      "cell_type": "markdown",
      "source": [
        "# El dataset se encuentra en este link: https://www.kaggle.com/datasets/niteshfre/chessman-image-dataset/data"
      ],
      "metadata": {
        "id": "_4vGirNUDIKB"
      }
    },
    {
      "cell_type": "markdown",
      "source": [
        "## Importamos las librerías necesarias para el proyecto. La librería de torchvision es para cargar los datos."
      ],
      "metadata": {
        "id": "jEGXkgUaHPsx"
      }
    },
    {
      "cell_type": "code",
      "execution_count": 171,
      "metadata": {
        "id": "bnyGOJtSC81o"
      },
      "outputs": [],
      "source": [
        "import pandas as pd\n",
        "pd.set_option('display.max_rows', 500)\n",
        "import numpy as np\n",
        "import matplotlib.pyplot as plt\n",
        "import seaborn as sns\n",
        "import keras\n",
        "import warnings\n",
        "warnings.filterwarnings('ignore')\n",
        "\n",
        "import cv2\n",
        "import os\n",
        "import glob\n",
        "import random"
      ]
    },
    {
      "cell_type": "markdown",
      "source": [
        "## Establecemos el directorio de trabajo, de donde cargaremos los datos. En este caso los cargamos del Drive."
      ],
      "metadata": {
        "id": "GhAuyMGqUhSf"
      }
    },
    {
      "cell_type": "code",
      "source": [
        "data_dir = \"/content/drive/MyDrive/Retos-De-Datos/ChessmanImages/Chessman-image-dataset/Chess\""
      ],
      "metadata": {
        "id": "f-C__8JtRDTw"
      },
      "execution_count": 172,
      "outputs": []
    },
    {
      "cell_type": "markdown",
      "source": [
        "## Configuramos el mapeo de las clases, poniendo aquellas que tenemos, en este caso, 6 clases. Son las 6 piezas de ajedrez diferentes.\n",
        "\n",
        "## Además, establecemos el tamaños de las imágenes, el cual va a ser 64 x 64."
      ],
      "metadata": {
        "id": "l7hqVkHuUotg"
      }
    },
    {
      "cell_type": "code",
      "source": [
        "map_classes = {\n",
        "    0: \"Bishop\", 1: \"King\", 2: \"Knight\", 3: \"Pawn\", 4: \"Queen\", 5: \"Rook\"\n",
        "}\n",
        "\n",
        "IMG_SIZE = 64"
      ],
      "metadata": {
        "id": "tfKnggQcUFqI"
      },
      "execution_count": 173,
      "outputs": []
    },
    {
      "cell_type": "markdown",
      "source": [
        "## Carga de imágenes de train, divididas mediante la label que se le asigna en \"map_classes\", esta etiqueta se asigna dependiendo de en qué carpeta esté la imagen, por lo cual la etiquetación se hace en la extracción de la imagen."
      ],
      "metadata": {
        "id": "q4JRSxcrcQ_i"
      }
    },
    {
      "cell_type": "code",
      "source": [
        "def load_train_set(dirname, map_characters, verbose=True):\n",
        "    # Cargar imagenes de entrenamiento, etiquetarlas y agregarlas a los conjuntos de datos, desde un directorio\n",
        "    X_train = []\n",
        "    y_train = []\n",
        "    for label, character in map_characters.items():\n",
        "        files = os.listdir(os.path.join(dirname, character))\n",
        "        images = [file for file in files if file.endswith(\"jpg\") or file.endswith(\"jpeg\") or file.endswith(\"png\") or file.endswith(\"JPG\")]\n",
        "        if verbose:\n",
        "          print(\"Leyendo {} imágenes encontradas de {}\".format(len(images), character))\n",
        "        for image_name in images:\n",
        "            image = cv2.imread(os.path.join(dirname, character, image_name))\n",
        "            X_train.append(cv2.resize(image,(IMG_SIZE, IMG_SIZE)))\n",
        "            y_train.append(label)\n",
        "    return np.array(X_train), np.array(y_train)"
      ],
      "metadata": {
        "id": "2Uh3hQKtQ_gi"
      },
      "execution_count": 174,
      "outputs": []
    },
    {
      "cell_type": "code",
      "source": [
        "X, y = None, None\n",
        "X, y = load_train_set(data_dir, map_classes)\n",
        "print(\"\\nTrain set loaded\")"
      ],
      "metadata": {
        "colab": {
          "base_uri": "https://localhost:8080/"
        },
        "id": "UEallL7tVjB4",
        "outputId": "7301811e-9cc8-4dd8-be0b-db1b75187013"
      },
      "execution_count": 175,
      "outputs": [
        {
          "output_type": "stream",
          "name": "stdout",
          "text": [
            "Leyendo 86 imágenes encontradas de Bishop\n",
            "Leyendo 75 imágenes encontradas de King\n",
            "Leyendo 105 imágenes encontradas de Knight\n",
            "Leyendo 106 imágenes encontradas de Pawn\n",
            "Leyendo 77 imágenes encontradas de Queen\n",
            "Leyendo 102 imágenes encontradas de Rook\n",
            "\n",
            "Train set loaded\n"
          ]
        }
      ]
    },
    {
      "cell_type": "markdown",
      "source": [
        "## Este método a diferencia del otro carga las imágenes de test, indicas con un número que se puede pasar por parámetro (por defecto elige 10 imágenes de cada clase) la cantidad de imágenes de cada clase que quieres para el conjunto de test, y devuelve los arrays con esas imágenes ya clasificadas.\n",
        "\n",
        "## La selección de imágenes dentro de cada clase es aleatoria.\n",
        "\n",
        "## También hay un control de error, para cuando se pida más imágenes de la que tiene alguna clase."
      ],
      "metadata": {
        "id": "18Ex4W1tcz47"
      }
    },
    {
      "cell_type": "code",
      "source": [
        "def load_test_set(dirname, map_characters, num_images=10, verbose=True):\n",
        "    X_train = []\n",
        "    y_train = []\n",
        "    for label, character in map_characters.items():\n",
        "        files = os.listdir(os.path.join(dirname, character))\n",
        "        # Comprobamos que no se pidan más imágenes de las que hay disponibles\n",
        "        if num_images > len(files):\n",
        "          print(\"Se ha puesto un número de imágenes mayor a la cantidad de fotos de alguna de las clases.\")\n",
        "          return None, None\n",
        "        # Obtener índices aleatorios del conjunto \"files\", de una cantidad igual a la que se indique por parámetro (por defecto son 10)\n",
        "        random_indices = random.sample(range(len(files)), min(num_images, len(files)))\n",
        "        # Seleccionar archivos usando los índices aleatorios\n",
        "        selected_files = [files[i] for i in random_indices]\n",
        "        # Filtrar los archivos seleccionados por extensión\n",
        "        images = [file for file in selected_files]\n",
        "        if verbose:\n",
        "          print(\"Leyendo {} imágenes encontradas de {}\".format(len(images), character))\n",
        "        for image_name in images:\n",
        "            image = cv2.imread(os.path.join(dirname, character, image_name))\n",
        "            X_train.append(cv2.resize(image,(IMG_SIZE, IMG_SIZE)))\n",
        "            y_train.append(label)\n",
        "    print(\"\\nEn total se han leído \" + str(len(X_train)) + \" imágenes\")\n",
        "    return np.array(X_train), np.array(y_train)"
      ],
      "metadata": {
        "id": "uELKx8SnbvmT"
      },
      "execution_count": 176,
      "outputs": []
    },
    {
      "cell_type": "code",
      "source": [
        "X_test, y_test = None, None\n",
        "X_test, y_test = load_test_set(data_dir, map_classes)"
      ],
      "metadata": {
        "colab": {
          "base_uri": "https://localhost:8080/"
        },
        "id": "EQkFcJs7b6Oy",
        "outputId": "8a26951e-7f30-46a0-a2b8-088e5c099ffc"
      },
      "execution_count": 177,
      "outputs": [
        {
          "output_type": "stream",
          "name": "stdout",
          "text": [
            "Leyendo 10 imágenes encontradas de Bishop\n",
            "Leyendo 10 imágenes encontradas de King\n",
            "Leyendo 10 imágenes encontradas de Knight\n",
            "Leyendo 10 imágenes encontradas de Pawn\n",
            "Leyendo 10 imágenes encontradas de Queen\n",
            "Leyendo 10 imágenes encontradas de Rook\n",
            "\n",
            "En total se han leído 60 imágenes\n"
          ]
        }
      ]
    },
    {
      "cell_type": "markdown",
      "source": [
        "## Barajamos aleatoriamente los datos, para que entrene de forma heterogenea y que no sea un entrenamiento tan homogeneo que pase clase por clase."
      ],
      "metadata": {
        "id": "FONsPHLopuan"
      }
    },
    {
      "cell_type": "code",
      "source": [
        "perm = np.random.permutation(len(X))\n",
        "X, y = X[perm], y[perm]"
      ],
      "metadata": {
        "id": "-uQtH08YptA5"
      },
      "execution_count": 178,
      "outputs": []
    },
    {
      "cell_type": "markdown",
      "source": [
        "## Lo mismo para los datos de test."
      ],
      "metadata": {
        "id": "1__QyddEsXAZ"
      }
    },
    {
      "cell_type": "code",
      "source": [
        "perm = np.random.permutation(len(X_test))\n",
        "X_test, y_test = X_test[perm], y_test[perm]"
      ],
      "metadata": {
        "id": "r0AjyS-1sQdJ"
      },
      "execution_count": 179,
      "outputs": []
    },
    {
      "cell_type": "markdown",
      "source": [
        "## Método que se utiliza para procesar la imagen y mostrarla, utilizando matplotlib."
      ],
      "metadata": {
        "id": "bZZFjIoSsg2i"
      }
    },
    {
      "cell_type": "code",
      "source": [
        "def ver_imagen(x):\n",
        "  plt.imshow(x)\n",
        "  plt.show()"
      ],
      "metadata": {
        "id": "zPsb1hs0qUsR"
      },
      "execution_count": 180,
      "outputs": []
    },
    {
      "cell_type": "markdown",
      "source": [
        "# Imagen antes de normalizar."
      ],
      "metadata": {
        "id": "qGTj6SkjqjxJ"
      }
    },
    {
      "cell_type": "code",
      "source": [
        "print(X[50])\n",
        "ver_imagen(X[50])"
      ],
      "metadata": {
        "colab": {
          "base_uri": "https://localhost:8080/",
          "height": 1000
        },
        "id": "K8Y8env7qRJq",
        "outputId": "d9ebf9d7-9f84-4fdb-bc33-87f3d79446c8"
      },
      "execution_count": 181,
      "outputs": [
        {
          "output_type": "stream",
          "name": "stdout",
          "text": [
            "[[[ 98 161 194]\n",
            "  [115 180 205]\n",
            "  [104 170 198]\n",
            "  ...\n",
            "  [104 168 197]\n",
            "  [120 179 203]\n",
            "  [112 169 196]]\n",
            "\n",
            " [[ 39 127 173]\n",
            "  [ 13  85 136]\n",
            "  [ 13  32  53]\n",
            "  ...\n",
            "  [ 13  38  65]\n",
            "  [ 17  73 114]\n",
            "  [ 42 126 176]]\n",
            "\n",
            " [[ 33 130 180]\n",
            "  [ 39  88 119]\n",
            "  [ 64  27  32]\n",
            "  ...\n",
            "  [ 50  20  23]\n",
            "  [ 31  76 100]\n",
            "  [ 42 130 169]]\n",
            "\n",
            " ...\n",
            "\n",
            " [[ 24 130 181]\n",
            "  [ 36  88 116]\n",
            "  [ 57  28  33]\n",
            "  ...\n",
            "  [ 58  37  48]\n",
            "  [ 40  69  93]\n",
            "  [ 41 127 173]]\n",
            "\n",
            " [[ 55 130 178]\n",
            "  [131 195 213]\n",
            "  [159 209 214]\n",
            "  ...\n",
            "  [156 216 217]\n",
            "  [131 200 213]\n",
            "  [ 63 135 174]]\n",
            "\n",
            " [[ 14  96 161]\n",
            "  [  7  92 157]\n",
            "  [  9  94 157]\n",
            "  ...\n",
            "  [  9  92 157]\n",
            "  [  9  90 157]\n",
            "  [ 33  98 144]]]\n"
          ]
        },
        {
          "output_type": "display_data",
          "data": {
            "text/plain": [
              "<Figure size 640x480 with 1 Axes>"
            ],
            "image/png": "[encoded data removed]"
          },
          "metadata": {}
        }
      ]
    },
    {
      "cell_type": "markdown",
      "source": [
        "# Normalizamos las imágenes, para que el modelo pueda entrenar mejor. Ver comparación, la imagen es igual, pero los datos de las imágenes están bien normalizados."
      ],
      "metadata": {
        "id": "sB6bVH4hp9Ug"
      }
    },
    {
      "cell_type": "code",
      "source": [
        "X = X / 255.0\n",
        "X_test = X_test / 255.0"
      ],
      "metadata": {
        "id": "2UkTzA6Hp4tx"
      },
      "execution_count": 182,
      "outputs": []
    },
    {
      "cell_type": "code",
      "source": [
        "print(X[50])\n",
        "ver_imagen(X[50])"
      ],
      "metadata": {
        "colab": {
          "base_uri": "https://localhost:8080/",
          "height": 1000
        },
        "id": "MyIEbhzgqmjB",
        "outputId": "cbbd6ed1-8c88-4871-f862-584b3e980e74"
      },
      "execution_count": 183,
      "outputs": [
        {
          "output_type": "stream",
          "name": "stdout",
          "text": [
            "[[[0.38431373 0.63137255 0.76078431]\n",
            "  [0.45098039 0.70588235 0.80392157]\n",
            "  [0.40784314 0.66666667 0.77647059]\n",
            "  ...\n",
            "  [0.40784314 0.65882353 0.77254902]\n",
            "  [0.47058824 0.70196078 0.79607843]\n",
            "  [0.43921569 0.6627451  0.76862745]]\n",
            "\n",
            " [[0.15294118 0.49803922 0.67843137]\n",
            "  [0.05098039 0.33333333 0.53333333]\n",
            "  [0.05098039 0.1254902  0.20784314]\n",
            "  ...\n",
            "  [0.05098039 0.14901961 0.25490196]\n",
            "  [0.06666667 0.28627451 0.44705882]\n",
            "  [0.16470588 0.49411765 0.69019608]]\n",
            "\n",
            " [[0.12941176 0.50980392 0.70588235]\n",
            "  [0.15294118 0.34509804 0.46666667]\n",
            "  [0.25098039 0.10588235 0.1254902 ]\n",
            "  ...\n",
            "  [0.19607843 0.07843137 0.09019608]\n",
            "  [0.12156863 0.29803922 0.39215686]\n",
            "  [0.16470588 0.50980392 0.6627451 ]]\n",
            "\n",
            " ...\n",
            "\n",
            " [[0.09411765 0.50980392 0.70980392]\n",
            "  [0.14117647 0.34509804 0.45490196]\n",
            "  [0.22352941 0.10980392 0.12941176]\n",
            "  ...\n",
            "  [0.22745098 0.14509804 0.18823529]\n",
            "  [0.15686275 0.27058824 0.36470588]\n",
            "  [0.16078431 0.49803922 0.67843137]]\n",
            "\n",
            " [[0.21568627 0.50980392 0.69803922]\n",
            "  [0.51372549 0.76470588 0.83529412]\n",
            "  [0.62352941 0.81960784 0.83921569]\n",
            "  ...\n",
            "  [0.61176471 0.84705882 0.85098039]\n",
            "  [0.51372549 0.78431373 0.83529412]\n",
            "  [0.24705882 0.52941176 0.68235294]]\n",
            "\n",
            " [[0.05490196 0.37647059 0.63137255]\n",
            "  [0.02745098 0.36078431 0.61568627]\n",
            "  [0.03529412 0.36862745 0.61568627]\n",
            "  ...\n",
            "  [0.03529412 0.36078431 0.61568627]\n",
            "  [0.03529412 0.35294118 0.61568627]\n",
            "  [0.12941176 0.38431373 0.56470588]]]\n"
          ]
        },
        {
          "output_type": "display_data",
          "data": {
            "text/plain": [
              "<Figure size 640x480 with 1 Axes>"
            ],
            "image/png": "[encoded data removed]"
          },
          "metadata": {}
        }
      ]
    },
    {
      "cell_type": "markdown",
      "source": [
        "# Entrenamiento"
      ],
      "metadata": {
        "id": "xCVBiuDAs-Th"
      }
    },
    {
      "cell_type": "code",
      "source": [
        "num_classes=len(map_classes)"
      ],
      "metadata": {
        "id": "1NfKBuXtrt0B"
      },
      "execution_count": 191,
      "outputs": []
    },
    {
      "cell_type": "markdown",
      "source": [
        "## Convertimos la y en un one-hot encoder, creando una matriz que está llena de 0's, menos un único indice que tiene un 1, lo que indica la clase a la que pertenece."
      ],
      "metadata": {
        "id": "ULWzrxHUtlaj"
      }
    },
    {
      "cell_type": "code",
      "source": [
        "y=keras.utils.to_categorical(y,num_classes)\n",
        "y_test=keras.utils.to_categorical(y_test,num_classes)"
      ],
      "metadata": {
        "id": "_u6msIvHr61K"
      },
      "execution_count": 185,
      "outputs": []
    },
    {
      "cell_type": "markdown",
      "source": [
        "## Aquí podemos ver lo que dije:"
      ],
      "metadata": {
        "id": "XF33Qb6LuMk5"
      }
    },
    {
      "cell_type": "code",
      "source": [
        "print(y_test)"
      ],
      "metadata": {
        "colab": {
          "base_uri": "https://localhost:8080/"
        },
        "id": "FhiekbR2r_Ch",
        "outputId": "2c361936-948f-4e11-c57b-73f1d6bb6ed8"
      },
      "execution_count": 186,
      "outputs": [
        {
          "output_type": "stream",
          "name": "stdout",
          "text": [
            "[[0. 1. 0. 0. 0. 0.]\n",
            " [1. 0. 0. 0. 0. 0.]\n",
            " [0. 0. 1. 0. 0. 0.]\n",
            " [0. 0. 1. 0. 0. 0.]\n",
            " [0. 0. 1. 0. 0. 0.]\n",
            " [0. 0. 0. 1. 0. 0.]\n",
            " [0. 0. 1. 0. 0. 0.]\n",
            " [0. 0. 0. 0. 0. 1.]\n",
            " [0. 1. 0. 0. 0. 0.]\n",
            " [0. 0. 0. 0. 0. 1.]\n",
            " [1. 0. 0. 0. 0. 0.]\n",
            " [0. 0. 0. 1. 0. 0.]\n",
            " [0. 0. 0. 1. 0. 0.]\n",
            " [1. 0. 0. 0. 0. 0.]\n",
            " [0. 1. 0. 0. 0. 0.]\n",
            " [0. 0. 0. 1. 0. 0.]\n",
            " [0. 0. 1. 0. 0. 0.]\n",
            " [0. 0. 0. 0. 0. 1.]\n",
            " [0. 0. 0. 1. 0. 0.]\n",
            " [0. 0. 0. 0. 1. 0.]\n",
            " [1. 0. 0. 0. 0. 0.]\n",
            " [0. 1. 0. 0. 0. 0.]\n",
            " [0. 0. 0. 0. 1. 0.]\n",
            " [1. 0. 0. 0. 0. 0.]\n",
            " [0. 0. 0. 0. 1. 0.]\n",
            " [0. 0. 0. 1. 0. 0.]\n",
            " [0. 0. 0. 0. 0. 1.]\n",
            " [0. 0. 0. 1. 0. 0.]\n",
            " [0. 0. 0. 0. 0. 1.]\n",
            " [0. 0. 0. 1. 0. 0.]\n",
            " [0. 0. 0. 0. 1. 0.]\n",
            " [0. 0. 0. 0. 0. 1.]\n",
            " [0. 0. 0. 0. 0. 1.]\n",
            " [0. 0. 0. 0. 0. 1.]\n",
            " [0. 0. 0. 0. 1. 0.]\n",
            " [0. 0. 1. 0. 0. 0.]\n",
            " [1. 0. 0. 0. 0. 0.]\n",
            " [0. 0. 0. 0. 0. 1.]\n",
            " [1. 0. 0. 0. 0. 0.]\n",
            " [1. 0. 0. 0. 0. 0.]\n",
            " [0. 0. 1. 0. 0. 0.]\n",
            " [0. 0. 0. 0. 0. 1.]\n",
            " [0. 1. 0. 0. 0. 0.]\n",
            " [0. 1. 0. 0. 0. 0.]\n",
            " [0. 0. 0. 0. 1. 0.]\n",
            " [0. 0. 0. 0. 1. 0.]\n",
            " [0. 0. 1. 0. 0. 0.]\n",
            " [0. 1. 0. 0. 0. 0.]\n",
            " [0. 0. 0. 0. 1. 0.]\n",
            " [0. 0. 0. 1. 0. 0.]\n",
            " [0. 0. 0. 0. 1. 0.]\n",
            " [0. 0. 1. 0. 0. 0.]\n",
            " [0. 0. 1. 0. 0. 0.]\n",
            " [1. 0. 0. 0. 0. 0.]\n",
            " [0. 0. 0. 0. 1. 0.]\n",
            " [0. 1. 0. 0. 0. 0.]\n",
            " [0. 0. 0. 1. 0. 0.]\n",
            " [0. 1. 0. 0. 0. 0.]\n",
            " [0. 1. 0. 0. 0. 0.]\n",
            " [1. 0. 0. 0. 0. 0.]]\n"
          ]
        }
      ]
    },
    {
      "cell_type": "code",
      "source": [
        "print(\"Datos de training, X e Y respectivamente: \" + str(X.shape), \", \" + str(y.shape))\n",
        "print(\"Datos de test, X e Y respectivamente: \" + str(X_test.shape), \", \" + str(y_test.shape))"
      ],
      "metadata": {
        "colab": {
          "base_uri": "https://localhost:8080/"
        },
        "id": "2DnJn8f1tF57",
        "outputId": "8d8b2d23-efe8-4a4a-fcf3-10ae5b5042c5"
      },
      "execution_count": 187,
      "outputs": [
        {
          "output_type": "stream",
          "name": "stdout",
          "text": [
            "Datos de training, X e Y respectivamente: (551, 64, 64, 3) , (551, 6)\n",
            "Datos de test, X e Y respectivamente: (60, 64, 64, 3) , (60, 6)\n"
          ]
        }
      ]
    },
    {
      "cell_type": "markdown",
      "source": [
        "## Selección de hiperparámetros y definición del tamaño del input."
      ],
      "metadata": {
        "id": "mgH7oVZhw9sy"
      }
    },
    {
      "cell_type": "code",
      "source": [
        "epochs=16\n",
        "img_rows,img_cols=IMG_SIZE,IMG_SIZE\n",
        "input_shape=(img_rows,img_cols,3)"
      ],
      "metadata": {
        "id": "aziRZDMvw8yC"
      },
      "execution_count": 281,
      "outputs": []
    },
    {
      "cell_type": "markdown",
      "source": [
        "## Modelo"
      ],
      "metadata": {
        "id": "e3rJEQwaDy7W"
      }
    },
    {
      "cell_type": "markdown",
      "source": [
        "Este modelo está ajustado para este problema, y empieza por una capa donde se indica el input_shape, que son las dimensiones de las imágenes que vamos a introducir en la red neuronal para que entrene, en este caso es 64x64.\n",
        "\n",
        "Después creamos varias capas convolucionales, de no muchas neuronas ya que nuestro problema es más bien pequeño, con 6 clases a tener en cuenta, y un puñado de imágenes, y así no creamos ningún tipo de overfitting.\n",
        "\n",
        "Las capas de MaxPooling es para sacar las características más importantes y así reducir la dimensión espacial, esto se repite varias veces para conservar así las mejores características siempre.\n",
        "\n",
        "Le hacemos Flatten a las capas para crear un vector unidimensional.\n",
        "\n",
        "Y al final hacemos un Dropout de neuronas, no muy grande (porque no son tantas neuronas), para evitar el overfitting, además de terminar con la última capa que da como respuesta 1 de las 6 clases."
      ],
      "metadata": {
        "id": "3YLGsxLfBIFO"
      }
    },
    {
      "cell_type": "code",
      "source": [
        "model = keras.Sequential([\n",
        "  keras.layers.Conv2D(32, kernel_size=(3, 3), data_format=\"channels_last\",input_shape=input_shape, activation='relu'),\n",
        "  keras.layers.MaxPooling2D(pool_size=(2, 2)),\n",
        "  keras.layers.Conv2D(128, kernel_size=(3, 3), activation='relu'),\n",
        "  keras.layers.MaxPooling2D(pool_size=(2, 2)),\n",
        "  keras.layers.Conv2D(256, kernel_size=(3, 3), activation='relu'),\n",
        "  keras.layers.MaxPooling2D(pool_size=(2, 2)),\n",
        "  keras.layers.MaxPooling2D(pool_size=(2, 2)),\n",
        "  keras.layers.Flatten(),\n",
        "  keras.layers.Dense(128, activation='relu'),\n",
        "  keras.layers.Dropout(0.25),\n",
        "  keras.layers.Dense(6, activation='softmax')\n",
        "])"
      ],
      "metadata": {
        "id": "FmbVRVcptKOK"
      },
      "execution_count": 297,
      "outputs": []
    },
    {
      "cell_type": "code",
      "source": [
        "model.summary()\n",
        "model.compile(optimizer='adam',\n",
        "loss='categorical_crossentropy',\n",
        "metrics=['accuracy'])"
      ],
      "metadata": {
        "colab": {
          "base_uri": "https://localhost:8080/"
        },
        "id": "3NhuFfLvuWMK",
        "outputId": "be81df91-ebdc-4768-c90c-9267ab09b002"
      },
      "execution_count": 298,
      "outputs": [
        {
          "output_type": "stream",
          "name": "stdout",
          "text": [
            "Model: \"sequential_26\"\n",
            "_________________________________________________________________\n",
            " Layer (type)                Output Shape              Param #   \n",
            "=================================================================\n",
            " conv2d_84 (Conv2D)          (None, 62, 62, 32)        896       \n",
            "                                                                 \n",
            " max_pooling2d_109 (MaxPool  (None, 31, 31, 32)        0         \n",
            " ing2D)                                                          \n",
            "                                                                 \n",
            " conv2d_85 (Conv2D)          (None, 29, 29, 128)       36992     \n",
            "                                                                 \n",
            " max_pooling2d_110 (MaxPool  (None, 14, 14, 128)       0         \n",
            " ing2D)                                                          \n",
            "                                                                 \n",
            " conv2d_86 (Conv2D)          (None, 12, 12, 256)       295168    \n",
            "                                                                 \n",
            " max_pooling2d_111 (MaxPool  (None, 6, 6, 256)         0         \n",
            " ing2D)                                                          \n",
            "                                                                 \n",
            " max_pooling2d_112 (MaxPool  (None, 3, 3, 256)         0         \n",
            " ing2D)                                                          \n",
            "                                                                 \n",
            " flatten_28 (Flatten)        (None, 2304)              0         \n",
            "                                                                 \n",
            " dense_54 (Dense)            (None, 128)               295040    \n",
            "                                                                 \n",
            " dropout_24 (Dropout)        (None, 128)               0         \n",
            "                                                                 \n",
            " dense_55 (Dense)            (None, 6)                 774       \n",
            "                                                                 \n",
            "=================================================================\n",
            "Total params: 628870 (2.40 MB)\n",
            "Trainable params: 628870 (2.40 MB)\n",
            "Non-trainable params: 0 (0.00 Byte)\n",
            "_________________________________________________________________\n"
          ]
        }
      ]
    },
    {
      "cell_type": "code",
      "source": [
        "history=model.fit(X, y, epochs=epochs, validation_split = 0.2)"
      ],
      "metadata": {
        "colab": {
          "base_uri": "https://localhost:8080/"
        },
        "id": "6r55GhYauZs6",
        "outputId": "6860285f-6279-4469-85e9-29fdb83ee7ee"
      },
      "execution_count": 299,
      "outputs": [
        {
          "output_type": "stream",
          "name": "stdout",
          "text": [
            "Epoch 1/16\n",
            "14/14 [==============================] - 10s 658ms/step - loss: 1.8039 - accuracy: 0.1955 - val_loss: 1.8106 - val_accuracy: 0.1351\n",
            "Epoch 2/16\n",
            "14/14 [==============================] - 6s 409ms/step - loss: 1.7672 - accuracy: 0.1909 - val_loss: 1.8279 - val_accuracy: 0.1532\n",
            "Epoch 3/16\n",
            "14/14 [==============================] - 8s 556ms/step - loss: 1.7579 - accuracy: 0.2159 - val_loss: 1.8032 - val_accuracy: 0.2162\n",
            "Epoch 4/16\n",
            "14/14 [==============================] - 6s 410ms/step - loss: 1.7264 - accuracy: 0.2409 - val_loss: 1.8212 - val_accuracy: 0.2432\n",
            "Epoch 5/16\n",
            "14/14 [==============================] - 9s 662ms/step - loss: 1.6792 - accuracy: 0.3136 - val_loss: 1.7506 - val_accuracy: 0.2432\n",
            "Epoch 6/16\n",
            "14/14 [==============================] - 9s 671ms/step - loss: 1.6238 - accuracy: 0.3455 - val_loss: 1.6928 - val_accuracy: 0.2793\n",
            "Epoch 7/16\n",
            "14/14 [==============================] - 8s 504ms/step - loss: 1.5171 - accuracy: 0.4091 - val_loss: 1.6469 - val_accuracy: 0.2883\n",
            "Epoch 8/16\n",
            "14/14 [==============================] - 6s 395ms/step - loss: 1.3700 - accuracy: 0.4955 - val_loss: 1.5864 - val_accuracy: 0.2973\n",
            "Epoch 9/16\n",
            "14/14 [==============================] - 7s 533ms/step - loss: 1.2152 - accuracy: 0.5477 - val_loss: 1.4266 - val_accuracy: 0.4414\n",
            "Epoch 10/16\n",
            "14/14 [==============================] - 7s 505ms/step - loss: 1.1204 - accuracy: 0.5727 - val_loss: 1.5058 - val_accuracy: 0.4595\n",
            "Epoch 11/16\n",
            "14/14 [==============================] - 11s 795ms/step - loss: 0.9719 - accuracy: 0.6614 - val_loss: 1.4098 - val_accuracy: 0.4324\n",
            "Epoch 12/16\n",
            "14/14 [==============================] - 8s 552ms/step - loss: 0.7903 - accuracy: 0.7364 - val_loss: 1.5056 - val_accuracy: 0.4505\n",
            "Epoch 13/16\n",
            "14/14 [==============================] - 7s 478ms/step - loss: 0.7760 - accuracy: 0.7295 - val_loss: 1.3441 - val_accuracy: 0.4865\n",
            "Epoch 14/16\n",
            "14/14 [==============================] - 6s 419ms/step - loss: 0.6635 - accuracy: 0.7705 - val_loss: 1.4851 - val_accuracy: 0.4865\n",
            "Epoch 15/16\n",
            "14/14 [==============================] - 8s 561ms/step - loss: 0.5461 - accuracy: 0.8091 - val_loss: 1.7183 - val_accuracy: 0.4505\n",
            "Epoch 16/16\n",
            "14/14 [==============================] - 6s 397ms/step - loss: 0.4813 - accuracy: 0.8273 - val_loss: 1.7080 - val_accuracy: 0.4685\n"
          ]
        }
      ]
    },
    {
      "cell_type": "markdown",
      "source": [
        "Aquí seguimos un proceso muy parecido al del otro modelo, pero utilizando la tangente hiperbólica, y con el optimizador RMSprop."
      ],
      "metadata": {
        "id": "_N8T96TrHGs3"
      }
    },
    {
      "cell_type": "code",
      "source": [
        "model2 = keras.Sequential([\n",
        "     keras.layers.Conv2D(32, kernel_size=(3, 3), data_format=\"channels_last\", input_shape=input_shape, activation='tanh'),\n",
        "     keras.layers.MaxPooling2D(pool_size=(2, 2)),\n",
        "     keras.layers.Conv2D(128, kernel_size=(3, 3), activation='tanh'),\n",
        "     keras.layers.MaxPooling2D(pool_size=(2, 2)),\n",
        "     keras.layers.Conv2D(256, kernel_size=(3, 3), activation='tanh'),\n",
        "     keras.layers.MaxPooling2D(pool_size=(2, 2)),\n",
        "     keras.layers.Flatten(),\n",
        "     keras.layers.Dense(128, activation='tanh'),\n",
        "     keras.layers.Dropout(0.25),\n",
        "     keras.layers.Dense(6, activation='softmax')\n",
        "])\n",
        "\n",
        "# Resumen del modelo\n",
        "model2.summary()\n",
        "\n",
        "# Compilar el modelo\n",
        "model2.compile(optimizer='RMSprop',\n",
        "               loss='categorical_crossentropy',\n",
        "              metrics=['accuracy'])"
      ],
      "metadata": {
        "colab": {
          "base_uri": "https://localhost:8080/"
        },
        "id": "A8-yU-S2E3jA",
        "outputId": "791260e4-f368-4d25-fe01-4ddafb809e53"
      },
      "execution_count": 300,
      "outputs": [
        {
          "output_type": "stream",
          "name": "stdout",
          "text": [
            "Model: \"sequential_27\"\n",
            "_________________________________________________________________\n",
            " Layer (type)                Output Shape              Param #   \n",
            "=================================================================\n",
            " conv2d_87 (Conv2D)          (None, 62, 62, 32)        896       \n",
            "                                                                 \n",
            " max_pooling2d_113 (MaxPool  (None, 31, 31, 32)        0         \n",
            " ing2D)                                                          \n",
            "                                                                 \n",
            " conv2d_88 (Conv2D)          (None, 29, 29, 128)       36992     \n",
            "                                                                 \n",
            " max_pooling2d_114 (MaxPool  (None, 14, 14, 128)       0         \n",
            " ing2D)                                                          \n",
            "                                                                 \n",
            " conv2d_89 (Conv2D)          (None, 12, 12, 256)       295168    \n",
            "                                                                 \n",
            " max_pooling2d_115 (MaxPool  (None, 6, 6, 256)         0         \n",
            " ing2D)                                                          \n",
            "                                                                 \n",
            " flatten_29 (Flatten)        (None, 9216)              0         \n",
            "                                                                 \n",
            " dense_56 (Dense)            (None, 128)               1179776   \n",
            "                                                                 \n",
            " dropout_25 (Dropout)        (None, 128)               0         \n",
            "                                                                 \n",
            " dense_57 (Dense)            (None, 6)                 774       \n",
            "                                                                 \n",
            "=================================================================\n",
            "Total params: 1513606 (5.77 MB)\n",
            "Trainable params: 1513606 (5.77 MB)\n",
            "Non-trainable params: 0 (0.00 Byte)\n",
            "_________________________________________________________________\n"
          ]
        }
      ]
    },
    {
      "cell_type": "code",
      "source": [
        "history2=model2.fit(X, y, epochs=epochs, validation_split=0.2)"
      ],
      "metadata": {
        "colab": {
          "base_uri": "https://localhost:8080/"
        },
        "id": "LRTcBKxOFwVX",
        "outputId": "4aa4559a-a9e5-4728-f472-e19ade57f1c7"
      },
      "execution_count": 301,
      "outputs": [
        {
          "output_type": "stream",
          "name": "stdout",
          "text": [
            "Epoch 1/16\n",
            "14/14 [==============================] - 9s 599ms/step - loss: 3.2983 - accuracy: 0.1909 - val_loss: 1.9540 - val_accuracy: 0.2162\n",
            "Epoch 2/16\n",
            "14/14 [==============================] - 6s 444ms/step - loss: 2.0390 - accuracy: 0.1795 - val_loss: 1.9157 - val_accuracy: 0.1441\n",
            "Epoch 3/16\n",
            "14/14 [==============================] - 8s 598ms/step - loss: 2.0328 - accuracy: 0.1727 - val_loss: 1.8372 - val_accuracy: 0.2252\n",
            "Epoch 4/16\n",
            "14/14 [==============================] - 6s 440ms/step - loss: 2.0045 - accuracy: 0.2295 - val_loss: 1.9827 - val_accuracy: 0.1532\n",
            "Epoch 5/16\n",
            "14/14 [==============================] - 8s 591ms/step - loss: 2.0464 - accuracy: 0.1727 - val_loss: 1.8261 - val_accuracy: 0.1982\n",
            "Epoch 6/16\n",
            "14/14 [==============================] - 6s 444ms/step - loss: 2.0333 - accuracy: 0.1682 - val_loss: 1.8503 - val_accuracy: 0.1351\n",
            "Epoch 7/16\n",
            "14/14 [==============================] - 8s 604ms/step - loss: 1.9860 - accuracy: 0.2091 - val_loss: 1.8351 - val_accuracy: 0.1802\n",
            "Epoch 8/16\n",
            "14/14 [==============================] - 7s 528ms/step - loss: 2.0288 - accuracy: 0.1932 - val_loss: 1.7986 - val_accuracy: 0.1982\n",
            "Epoch 9/16\n",
            "14/14 [==============================] - 10s 714ms/step - loss: 1.9712 - accuracy: 0.2091 - val_loss: 1.8498 - val_accuracy: 0.1261\n",
            "Epoch 10/16\n",
            "14/14 [==============================] - 8s 575ms/step - loss: 2.0466 - accuracy: 0.1727 - val_loss: 1.8401 - val_accuracy: 0.1351\n",
            "Epoch 11/16\n",
            "14/14 [==============================] - 8s 564ms/step - loss: 2.0102 - accuracy: 0.2068 - val_loss: 1.8670 - val_accuracy: 0.1441\n",
            "Epoch 12/16\n",
            "14/14 [==============================] - 7s 501ms/step - loss: 1.9065 - accuracy: 0.1955 - val_loss: 1.8896 - val_accuracy: 0.1892\n",
            "Epoch 13/16\n",
            "14/14 [==============================] - 10s 720ms/step - loss: 1.9258 - accuracy: 0.2227 - val_loss: 1.8606 - val_accuracy: 0.1982\n",
            "Epoch 14/16\n",
            "14/14 [==============================] - 8s 555ms/step - loss: 1.9092 - accuracy: 0.2500 - val_loss: 1.9180 - val_accuracy: 0.1892\n",
            "Epoch 15/16\n",
            "14/14 [==============================] - 6s 432ms/step - loss: 1.8370 - accuracy: 0.2773 - val_loss: 1.7472 - val_accuracy: 0.1982\n",
            "Epoch 16/16\n",
            "14/14 [==============================] - 7s 476ms/step - loss: 1.8524 - accuracy: 0.2432 - val_loss: 1.8035 - val_accuracy: 0.2072\n"
          ]
        },
        {
          "output_type": "execute_result",
          "data": {
            "text/plain": [
              "<keras.src.callbacks.History at 0x7e8c3babe860>"
            ]
          },
          "metadata": {},
          "execution_count": 301
        }
      ]
    },
    {
      "cell_type": "markdown",
      "source": [
        "## Los resultados, comparados a los de mi modelo original son peores, por lo que es mejor coger nuestro primer modelo."
      ],
      "metadata": {
        "id": "NliIJewaHfNw"
      }
    },
    {
      "cell_type": "code",
      "source": [
        "def plot_acc(history, title=\"Model Accuracy\"):\n",
        "  \"\"\"Imprime una gráfica mostrando la accuracy por epoch obtenida en un entrenamiento\"\"\"\n",
        "  plt.plot(history.history['accuracy'])\n",
        "  plt.plot(history.history['val_accuracy'])\n",
        "  plt.title(title)\n",
        "  plt.ylabel('Accuracy')\n",
        "  plt.xlabel('Epoch')\n",
        "  plt.legend(['Train', 'Val'], loc='upper left')\n",
        "  plt.show()"
      ],
      "metadata": {
        "id": "ZCZKuqRB3TR0"
      },
      "execution_count": 271,
      "outputs": []
    },
    {
      "cell_type": "code",
      "source": [
        "def plot_loss(history, title=\"Model Loss\"):\n",
        "  \"\"\"Imprime una gráfica mostrando la pérdida por epoch obtenida en un entrenamiento\"\"\"\n",
        "  plt.plot(history.history['loss'])\n",
        "  plt.plot(history.history['val_loss'])\n",
        "  plt.title(title)\n",
        "  plt.ylabel('Loss')\n",
        "  plt.xlabel('Epoch')\n",
        "  plt.legend(['Train', 'Val'], loc='upper right')\n",
        "  plt.show()"
      ],
      "metadata": {
        "id": "J5EK9Mt93ol8"
      },
      "execution_count": 272,
      "outputs": []
    },
    {
      "cell_type": "code",
      "source": [
        "plot_acc(history)"
      ],
      "metadata": {
        "colab": {
          "base_uri": "https://localhost:8080/",
          "height": 472
        },
        "id": "09jFmoMW3UWb",
        "outputId": "07e6bc01-98ab-4a0f-d3d5-60d798ffbea9"
      },
      "execution_count": 273,
      "outputs": [
        {
          "output_type": "display_data",
          "data": {
            "text/plain": [
              "<Figure size 640x480 with 1 Axes>"
            ],
            "image/png": "[encoded data removed]"
          },
          "metadata": {}
        }
      ]
    },
    {
      "cell_type": "code",
      "source": [
        "plot_loss(history)"
      ],
      "metadata": {
        "colab": {
          "base_uri": "https://localhost:8080/",
          "height": 472
        },
        "id": "3MNJrKR-3cPz",
        "outputId": "eafc4628-8a6d-4863-c09e-6e85adc64484"
      },
      "execution_count": 236,
      "outputs": [
        {
          "output_type": "display_data",
          "data": {
            "text/plain": [
              "<Figure size 640x480 with 1 Axes>"
            ],
            "image/png": "[encoded data removed]"
          },
          "metadata": {}
        }
      ]
    },
    {
      "cell_type": "markdown",
      "source": [
        "## Probamos con los datos de test, haciendo una evaluación."
      ],
      "metadata": {
        "id": "UO6w3oeQ-W5F"
      }
    },
    {
      "cell_type": "code",
      "source": [
        "model.evaluate(X_test, y_test, batch_size=32, verbose=1)"
      ],
      "metadata": {
        "colab": {
          "base_uri": "https://localhost:8080/"
        },
        "id": "q_ldP7az-YtV",
        "outputId": "1414b2fd-821a-49c6-e183-c6019c39be0e"
      },
      "execution_count": 274,
      "outputs": [
        {
          "output_type": "stream",
          "name": "stdout",
          "text": [
            "2/2 [==============================] - 0s 187ms/step - loss: 0.6020 - accuracy: 0.8333\n"
          ]
        },
        {
          "output_type": "execute_result",
          "data": {
            "text/plain": [
              "[0.6019948124885559, 0.8333333134651184]"
            ]
          },
          "metadata": {},
          "execution_count": 274
        }
      ]
    },
    {
      "cell_type": "markdown",
      "source": [
        "Obtenemos una precisión del 83%, y un loss de 0.60."
      ],
      "metadata": {
        "id": "LpwnUQ8S-dM0"
      }
    },
    {
      "cell_type": "markdown",
      "source": [
        "## Ahora utilizamos el modelo para predecir."
      ],
      "metadata": {
        "id": "r86TwIc6_BGN"
      }
    },
    {
      "cell_type": "markdown",
      "source": [
        "Almacenamos las predicciones del test, para proceder a hacer una matriz de confusión y ver de forma visual qué tal predice."
      ],
      "metadata": {
        "id": "iR9ESieN_MSO"
      }
    },
    {
      "cell_type": "code",
      "source": [
        "prediccion=model.predict(X_test, batch_size=32, verbose=1)"
      ],
      "metadata": {
        "colab": {
          "base_uri": "https://localhost:8080/"
        },
        "id": "nJrqBFJT_Ae0",
        "outputId": "2ef2394d-3395-4e6e-96b7-8fae1b0fb22a"
      },
      "execution_count": 276,
      "outputs": [
        {
          "output_type": "stream",
          "name": "stdout",
          "text": [
            "2/2 [==============================] - 1s 176ms/step\n"
          ]
        }
      ]
    },
    {
      "cell_type": "code",
      "source": [
        "from sklearn.metrics import confusion_matrix\n",
        "from sklearn.metrics import classification_report\n",
        "# Convierte las predicciones y etiquetas verdaderas a clases\n",
        "y_pred_classes = np.argmax(prediccion, axis=1)\n",
        "y_true = np.argmax(y_test, axis=1)\n",
        "\n",
        "# Se calcula la matriz de confusión\n",
        "confusion_mtx = confusion_matrix(y_true, y_pred_classes)\n",
        "\n",
        "# Visualizamos la matriz de confusión\n",
        "plt.figure(figsize=(10,8))\n",
        "sns.heatmap(confusion_mtx, annot=True, fmt='d', cmap='Blues', xticklabels=map_classes.values(), yticklabels=map_classes.values())\n",
        "plt.xlabel('Predicciones')\n",
        "plt.ylabel('Etiquetas Verdaderas')\n",
        "plt.show()\n",
        "\n",
        "# Hacemos el reporte\n",
        "print(classification_report(y_true, y_pred_classes, target_names=map_classes.values()))"
      ],
      "metadata": {
        "colab": {
          "base_uri": "https://localhost:8080/",
          "height": 927
        },
        "id": "7rMftBib_T-d",
        "outputId": "62372cde-cf9b-495c-ccf1-67096d864987"
      },
      "execution_count": 280,
      "outputs": [
        {
          "output_type": "display_data",
          "data": {
            "text/plain": [
              "<Figure size 1000x800 with 2 Axes>"
            ],
            "image/png": "[encoded data removed]"
          },
          "metadata": {}
        },
        {
          "output_type": "stream",
          "name": "stdout",
          "text": [
            "              precision    recall  f1-score   support\n",
            "\n",
            "      Bishop       0.64      0.90      0.75        10\n",
            "        King       1.00      0.80      0.89        10\n",
            "      Knight       0.91      1.00      0.95        10\n",
            "        Pawn       0.89      0.80      0.84        10\n",
            "       Queen       0.86      0.60      0.71        10\n",
            "        Rook       0.82      0.90      0.86        10\n",
            "\n",
            "    accuracy                           0.83        60\n",
            "   macro avg       0.85      0.83      0.83        60\n",
            "weighted avg       0.85      0.83      0.83        60\n",
            "\n"
          ]
        }
      ]
    },
    {
      "cell_type": "markdown",
      "source": [
        "## Con esto, podemos ver que hay una clase que flojea ante todas las demás que es la del \"bishop\", o el alfil, mientras que todas las demás consiguen tener una mejor precisión. Esto podría ser debido a la falta de imágenes de calidad, o falta de imágenes hablando ya de volumen, pero en general, ha entrenado bien."
      ],
      "metadata": {
        "id": "Q7nq7WOaAMq1"
      }
    }
  ]
}